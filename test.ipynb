{
 "cells": [
  {
   "cell_type": "markdown",
   "id": "9550de04",
   "metadata": {},
   "source": [
    "Typically, a jupyter notebook is where you do your data exploration, and develop the code needed for data processing."
   ]
  },
  {
   "cell_type": "code",
   "execution_count": 1,
   "id": "5d082411",
   "metadata": {},
   "outputs": [],
   "source": [
    "# define your variables / load in data\n",
    "name = \"John Doe\""
   ]
  },
  {
   "cell_type": "code",
   "execution_count": null,
   "id": "bddb52b4",
   "metadata": {},
   "outputs": [],
   "source": []
  },
  {
   "cell_type": "code",
   "execution_count": null,
   "id": "9f9aaf6d",
   "metadata": {},
   "outputs": [],
   "source": []
  },
  {
   "cell_type": "code",
   "execution_count": null,
   "metadata": {},
   "outputs": [],
   "source": []
  }
 ],
 "metadata": {
  "kernelspec": {
   "display_name": "Python 3",
   "language": "python",
   "name": "python3"
  },
  "language_info": {
   "codemirror_mode": {
    "name": "ipython",
    "version": 3
   },
   "file_extension": ".py",
   "mimetype": "text/x-python",
   "name": "python",
   "nbconvert_exporter": "python",
   "pygments_lexer": "ipython3",
   "version": "3.10.16"
  }
 },
 "nbformat": 4,
 "nbformat_minor": 5
}
